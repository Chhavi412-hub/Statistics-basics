{
  "nbformat": 4,
  "nbformat_minor": 0,
  "metadata": {
    "colab": {
      "provenance": []
    },
    "kernelspec": {
      "name": "python3",
      "display_name": "Python 3"
    },
    "language_info": {
      "name": "python"
    }
  },
  "cells": [
    {
      "cell_type": "markdown",
      "source": [
        "Questions:"
      ],
      "metadata": {
        "id": "lDv99NW29Ep3"
      }
    },
    {
      "cell_type": "markdown",
      "source": [
        "1. What is the difference between descriptive statistics and inferential\n",
        "statistics? Explain with examples.\n",
        "\n",
        "Ans **Descriptive Statistics:**\n",
        "\n",
        "\n",
        "\n",
        "*   It gives information about raw data which describes the data in some manner.\n",
        "*   It helps in organizing, analyzing, and to present data in a meaningful manner.\n",
        "\n",
        "*   It is used to describe a situation.\n",
        "*   It explains already known data and is limited to a sample or population having a small size.\n",
        "\n",
        "*   Limited to presenting and analyzing known data.\n",
        "*   Used for describing trends, organizing data for presentation.\n",
        "\n",
        "*   It can be achieved with the help of charts, graphs, tables, etc.\n",
        "\n",
        "*   **Examples:**\n",
        "Calculating the average age of students in a classroom.\n",
        "\n",
        "Creating a histogram to show the distribution of exam scores.\n",
        "\n",
        "Determining the most common hair color in a group of people.\n",
        "\n",
        "\n",
        "\n",
        "**Inferential Statistics:**\n",
        "\n",
        "*   It makes inferences about the population using data drawn from the population.\n",
        "*   It allows us to compare data, and make hypotheses and predictions.\n",
        "\n",
        "*   It is used to explain the chance of occurrence of an event.\n",
        "*   It attempts to reach the conclusion about the population.\n",
        "\n",
        "*   Allows predictions and conclusions that go beyond the data at hand.\n",
        "*   Used for predicting trends, testing hypotheses, generalizing data from sample to population.\n",
        "\n",
        "*   It can be achieved by probability.\n",
        "\n",
        "*   **Examples:**\n",
        "\n",
        "Using a survey sample to estimate the percentage of voters who support a particular candidate in the entire city.\n",
        "\n",
        "Conducting an experiment to determine if a new drug is effective for a larger population based on results from a clinical trial.\n",
        "\n",
        "Testing a hypothesis about the average height of men in a country based on a sample of men from that country.\n",
        "\n",
        "\n",
        "\n",
        "\n",
        "\n",
        "\n",
        "\n",
        "\n",
        "\n",
        "\n",
        "\n",
        "\n",
        "\n",
        "\n",
        "\n",
        "\n",
        "\n",
        "\n"
      ],
      "metadata": {
        "id": "ktWYqofE9EmU"
      }
    },
    {
      "cell_type": "markdown",
      "source": [
        "2. What is sampling in statistics? Explain the differences between random and stratified sampling.\n",
        "\n",
        "Ans In statistics, sampling is the process of selecting a subset of individuals from a larger population\n",
        "to study and draw conclusions about the entire population.\n",
        "\n",
        "**Random Sampling:**\n",
        "\n",
        "*    Every member of the population has an equal and random chance of being selected.\n",
        "*   Simple to implement, minimizes bias if the sample is large enough.\n",
        "\n",
        "*   May not accurately represent the population if the sample is not large enough or if there are significant subgroups within the population.\n",
        "*   Can be less efficient for\n",
        "diverse populations.\n",
        "\n",
        "*   **Examples:**Selecting 100 students\n",
        "from a school's\n",
        "enrollment list\n",
        "\n",
        "**Stratified Sampling:**\n",
        "\n",
        "*   The population is divided into subgroups (strata) based on relevant characteristics, and then random samples are drawn from each stratum.\n",
        "*   More accurate representation of the population, especially when subgroups have different characteristics.\n",
        "\n",
        "*   More complex to implement than random sampling, requires knowledge of the population's subgroups.\n",
        "*   More efficient for diverse\n",
        "populations, especially when\n",
        "subgroups vary significantly.\n",
        "\n",
        "*   **Examples:** Dividing students by grade level\n",
        "and then randomly selecting from\n",
        "each grade.\n",
        "\n",
        "\n",
        "\n",
        "\n",
        "\n",
        "\n",
        "\n",
        "\n",
        "\n",
        "\n",
        "\n",
        "\n"
      ],
      "metadata": {
        "id": "-EOCO6ne9Ejz"
      }
    },
    {
      "cell_type": "markdown",
      "source": [
        "3. : Define mean, median, and mode. Explain why these measures of central tendency are important.\n",
        "\n",
        "Ans **Mean:**\n",
        "\n",
        "The mean is the arithmetic average of a dataset.\n",
        "\n",
        " It is calculated by summing all values and dividing by the count of values: Mean=sum x/n.\n",
        "\n",
        "**Median:**\n",
        "\n",
        "The median is the middle value in an ordered dataset.\n",
        "\n",
        "If there's an even number of values, it's the average of the two middle values.\n",
        "\n",
        "**Mode:**\n",
        "\n",
        "The mode is the most frequently occurring value in a dataset.\n",
        "\n",
        "A dataset can have one mode (unimodal), multiple modes (multimodal), or no mode.\n",
        "\n",
        "**Importance of Measures of Central Tendency:**\n",
        "1. **Summarizing Data:**\n",
        "They provide a single, representative value for a dataset, making it easier to understand the overall\n",
        "trend or central value.  \n",
        "2. **Comparing Groups:**\n",
        "These measures allow for comparisons between different datasets or groups. For example, comparing\n",
        "the mean income of two different cities.  \n",
        "3. **Decision Making:**\n",
        "They help in making informed decisions based on the characteristics of the data. For instance,\n",
        "understanding the average customer satisfaction score can guide product improvements.  \n",
        "4. **Identifying Outliers:**\n",
        "The mean, median, and mode can help identify potential outliers, which are values that are\n",
        "significantly different from the rest of the data.  \n",
        "5. **Data Analysis:**\n",
        "These measures are fundamental in data analysis and are often used in conjunction with other\n",
        "statistical measures like standard deviation to understand the distribution and variability of data.\n"
      ],
      "metadata": {
        "id": "H1QXcDmn9EhN"
      }
    },
    {
      "cell_type": "markdown",
      "source": [
        "4.  Explain skewness and kurtosis. What does a positive skew imply about the data?\n",
        "\n",
        "Ans **Skewness:**\n",
        "• Skewness measures the degree to which a distribution deviates from being symmetrical.\n",
        "\n",
        "• A symmetrical distribution has a skewness of zero.\n",
        "\n",
        "• A positive skew (right skew) means the tail on the right side of the distribution is longer or\n",
        "fatter than the left side, indicating more data points towards higher values.  \n",
        "\n",
        "• A negative skew (left skew) means the tail on the left side is longer or fatter, indicating more\n",
        "data points towards lower values.  \n",
        "\n",
        " **Kurtosis:**\n",
        "\n",
        "• Kurtosis measures the \"peakedness\" of a distribution and the heaviness of its tails.\n",
        "\n",
        "• A normal distribution has a kurtosis of 3 (or excess kurtosis of 0).\n",
        "\n",
        "• Leptokurtic: distributions have a kurtosis greater than 3 (or positive excess kurtosis),\n",
        "indicating a sharper peak and heavier tails, with more data points clustered around the mean\n",
        "and in the tails.  \n",
        "\n",
        "• Platykurtic: distributions have a kurtosis less than 3 (or negative excess kurtosis), indicating\n",
        "a flatter peak and lighter tails.  \n",
        "\n",
        "**Positive Skew (Right Skew):**\n",
        "\n",
        "• In a positively skewed distribution, the mean is typically greater than the median, which is in turn\n",
        "greater than the mode.  \n",
        "\n",
        "• This implies that there are some high outliers or extreme values pulling the mean towards the right\n",
        "tail, making it higher than the median.  \n",
        "\n",
        "• The majority of the data points are concentrated on the left side of the distribution, while a few high\n",
        "values stretch the tail to the right."
      ],
      "metadata": {
        "id": "-3owj0FH9EeT"
      }
    },
    {
      "cell_type": "markdown",
      "source": [
        "5. Implement a Python program to compute the mean, median, and mode of\n",
        "a given list of numbers.\n",
        "\n",
        "numbers = [12, 15, 12, 18, 19, 12, 20, 22, 19, 19, 24, 24, 24, 26, 28]"
      ],
      "metadata": {
        "id": "qQD8ZkOa9EbT"
      }
    },
    {
      "cell_type": "code",
      "execution_count": 3,
      "metadata": {
        "id": "_1sZ1tBN7NuN",
        "colab": {
          "base_uri": "https://localhost:8080/"
        },
        "outputId": "1d437592-22a2-4862-b9b7-b95530b67702"
      },
      "outputs": [
        {
          "output_type": "stream",
          "name": "stdout",
          "text": [
            "Mean: 19.6\n",
            "Median: 19\n",
            "Mode: 12\n"
          ]
        }
      ],
      "source": [
        "# import statistics library\n",
        "import statistics as stat\n",
        "num = [12, 15, 12, 18, 19, 12, 20, 22, 19, 19, 24, 24, 24, 26, 28]\n",
        "#mean\n",
        "stat.mean(num)\n",
        "#meedian\n",
        "stat.median(num)\n",
        "#mode\n",
        "stat.multimode(num)\n",
        "print(f\"Mean: {stat.mean(num)}\")\n",
        "print(f\"Median: {stat.median(num)}\")\n",
        "print(f\"Mode: {stat.mode(num)}\")"
      ]
    },
    {
      "cell_type": "markdown",
      "source": [
        "6.  : Compute the covariance and correlation coefficient between the following two datasets provided as lists in\n",
        "\n",
        "Python: list_x = [10, 20, 30, 40, 50]\n",
        "list_y = [15, 25, 35, 45, 60]"
      ],
      "metadata": {
        "id": "XtNSLHsoS0cC"
      }
    },
    {
      "cell_type": "code",
      "source": [
        "import numpy as np\n",
        "#two datasets provided as lists in Python:\n",
        "\n",
        "list_x = [10, 20, 30, 40, 50]\n",
        "list_y = [15, 25, 35, 45, 60]\n",
        "#compute covarience\n",
        "covarience = np.cov(list_x, list_y)[1][0]\n",
        "#compute correlation coefficient\n",
        "correlation_coefficient = np.corrcoef(list_x, list_y)[1][0]\n",
        "#print the result\n",
        "print(f\"Covarience: {covarience}\")\n",
        "print(f\"Correlation Coefficient: {correlation_coefficient}\")"
      ],
      "metadata": {
        "id": "SZuVJK-y8SlB",
        "colab": {
          "base_uri": "https://localhost:8080/"
        },
        "outputId": "73ae6bfa-2787-46a2-877e-599c51b69618"
      },
      "execution_count": 11,
      "outputs": [
        {
          "output_type": "stream",
          "name": "stdout",
          "text": [
            "Covarience: 275.0\n",
            "Correlation Coefficient: 0.995893206467704\n"
          ]
        }
      ]
    },
    {
      "cell_type": "markdown",
      "source": [
        "7. Write a Python script to draw a boxplot for the following numeric list and identify its outliers. Explain the\n",
        "result:\n",
        "\n",
        " data = [12, 14, 14, 15, 18, 19, 19, 21, 22, 22, 23, 23, 24, 26, 29, 35]"
      ],
      "metadata": {
        "id": "CGHoJsocWEDl"
      }
    },
    {
      "cell_type": "code",
      "source": [
        "import seaborn as sns\n",
        "data = [12, 14, 14, 15, 18, 19, 19, 21, 22, 22, 23, 23, 24, 26, 29, 35]\n",
        "#compute boxplot\n",
        "boxplot = sns.boxplot(data)\n",
        "boxplot\n",
        "\n",
        "# So after getting the result, we can see that 35 is the outlier in the given data as it is far away from the box plot\n"
      ],
      "metadata": {
        "colab": {
          "base_uri": "https://localhost:8080/",
          "height": 428
        },
        "id": "o8buXiMSj24L",
        "outputId": "beabf899-7f9e-4c21-f042-a1b920947b58"
      },
      "execution_count": 12,
      "outputs": [
        {
          "output_type": "execute_result",
          "data": {
            "text/plain": [
              "<Axes: >"
            ]
          },
          "metadata": {},
          "execution_count": 12
        },
        {
          "output_type": "display_data",
          "data": {
            "text/plain": [
              "<Figure size 640x480 with 1 Axes>"
            ],
            "image/png": "[encoded data removed]"
          },
          "metadata": {}
        }
      ]
    },
    {
      "cell_type": "markdown",
      "source": [
        "8. You are working as a data analyst in an e-commerce company. The marketing team wants to know if there is a\n",
        "relationship between advertising spend and daily sales.\n",
        "\n",
        "● Explain how you would use covariance and correlation to explore this relationship.\n",
        "\n",
        "● Write Python code to compute the correlation between the two lists:\n",
        "\n",
        " advertising_spend = [200, 250, 300, 400, 500]\n",
        "\n",
        " daily_sales = [2200, 2450, 2750, 3200, 4000]\n"
      ],
      "metadata": {
        "id": "eVNN64O2vmp5"
      }
    },
    {
      "cell_type": "code",
      "source": [
        "import numpy as np\n",
        "#Data as given\n",
        "advertising_spend = [200, 250, 300, 400, 500]\n",
        "daily_sales = [2200, 2450, 2750, 3200, 4000]\n",
        "#compute covarience\n",
        "cov = np.cov(advertising_spend, daily_sales)[1][0]\n",
        "print(f\"Covarience: {cov}\")\n",
        "\n",
        "#compute correlation coefficient\n",
        "corr_coef = np.corrcoef(advertising_spend, daily_sales)[1][0]\n",
        "print(f\"Correlation Coefficient: {corr_coef}\")\n",
        "\n",
        "#To investigate the relationship between advertising spend and daily sales, a data analyst can utilize covariance and correlation.\n",
        "#Covariance indicates the direction of the relationship (positive or negative), while correlation provides a standardized measure of its strength and direction.\n",
        "#By calculating these, the analyst can assess if higher advertising spend leads to higher sales, and to what extent."
      ],
      "metadata": {
        "colab": {
          "base_uri": "https://localhost:8080/"
        },
        "id": "nxNJukuxvoFD",
        "outputId": "02be1dd9-134c-421b-9dfb-514c8cb9378d"
      },
      "execution_count": 15,
      "outputs": [
        {
          "output_type": "stream",
          "name": "stdout",
          "text": [
            "Covarience: 84875.0\n",
            "Correlation Coefficient: 0.9935824101653328\n"
          ]
        }
      ]
    },
    {
      "cell_type": "markdown",
      "source": [
        "9. Your team has collected customer satisfaction survey data on a scale of 1-10 and wants to understand its\n",
        "distribution before launching a new product.\n",
        "\n",
        "● Explain which summary statistics and visualizations (e.g. mean, standard deviation, histogram) you’d use.\n",
        "\n",
        "● Write Python code to create a histogram using Matplotlib for the survey data:\n",
        "\n",
        "survey_scores = [7, 8, 5, 9, 6, 7, 8, 9, 10, 4, 7, 6, 9, 8, 7]"
      ],
      "metadata": {
        "id": "dgwilBQQZ8KR"
      }
    },
    {
      "cell_type": "code",
      "source": [
        "import matplotlib.pyplot as plt\n",
        "survey_scores = [7, 8, 5, 9, 6, 7, 8, 9, 10, 4, 7, 6, 9, 8, 7]\n",
        "plt.hist(survey_scores, bins=range(1,11), align='left')\n",
        "\n",
        "#To understand the distribution of customer satisfaction data on a 1-10 scale, summary statistics like mean, median, mode, range, and standard deviation, along with a histogram visualization, are helpful.\n",
        "#The mean provides a central value, while the median offers a robust measure less sensitive to outliers.\n",
        "#The mode identifies the most frequent score. The range indicates the spread of scores, and the standard deviation quantifies the variability around the mean.\n",
        "#A histogram visually represents the frequency distribution of scores, revealing the shape of the distribution (e.g., normal, skewed)."
      ],
      "metadata": {
        "colab": {
          "base_uri": "https://localhost:8080/",
          "height": 482
        },
        "id": "fCZX8XIk0cMs",
        "outputId": "f6d19e16-51b4-4b75-c126-8dd550b02313"
      },
      "execution_count": null,
      "outputs": [
        {
          "output_type": "execute_result",
          "data": {
            "text/plain": [
              "(array([0., 0., 0., 1., 1., 2., 4., 3., 4.]),\n",
              " array([ 1.,  2.,  3.,  4.,  5.,  6.,  7.,  8.,  9., 10.]),\n",
              " <BarContainer object of 9 artists>)"
            ]
          },
          "metadata": {},
          "execution_count": 13
        },
        {
          "output_type": "display_data",
          "data": {
            "text/plain": [
              "<Figure size 640x480 with 1 Axes>"
            ],
            "image/png": "[encoded data removed]"
          },
          "metadata": {}
        }
      ]
    }
  ]
}